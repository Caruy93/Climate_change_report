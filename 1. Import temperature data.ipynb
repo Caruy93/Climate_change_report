{
 "cells": [
  {
   "cell_type": "markdown",
   "metadata": {},
   "source": [
    "# Import termperature data"
   ]
  },
  {
   "cell_type": "code",
   "execution_count": 1,
   "metadata": {},
   "outputs": [],
   "source": [
    "# \n",
    "# Import libraries and custom modules\n",
    "# \n",
    "import urllib.request, urllib.parse, urllib.error\n",
    "import pandas as pd\n",
    "import re\n",
    "import Wrangler as Wr\n",
    "## Wr.extractLines\n",
    "## Wr.multipleReplace\n",
    "## Wr.makeDirFile\n",
    "\n",
    "\n",
    "# Access URL, then request and read temperature data file \n",
    "with urllib.request.urlopen('http://berkeleyearth.lbl.gov/auto/Global/Land_and_Ocean_complete.txt') as fhand:\n",
    "    # Decode file data and form a list\n",
    "    file = [line.decode().strip() for line in fhand]\n",
    "    \n",
    "# Identify Index at which surface-air temperature data begins\n",
    "for c,el in enumerate(file):\n",
    "    if len(el) == 0:\n",
    "        break\n",
    "        \n",
    "# Identify Index at which surface-air temperature data ends\n",
    "for c2,el2 in enumerate(file[c+1:]):\n",
    "    if len(el2) == 0:\n",
    "        break\n",
    "\n",
    "# Extract set: Global Average Temperature Anomaly with Sea Ice Temperature Inferred from Air Temperatures\n",
    "lst = Wr.extractLines(file[c+1:c2+c+1])\n",
    "\n",
    "# Parse main headers and sub headers into respective lists\n",
    "h1 = Wr.multipleReplace({'%':'','-y':'Y'},file[74]).split()\n",
    "h2 = re.sub('[%\\s\\.]*','',file[75]).split(',')\n",
    "\n",
    "# Consolidate main and sub headers into single header list\n",
    "h_list = [h1[num//2-1] + h2[num] if num > 1 else h2[num] for num in range(len(h2))]\n",
    "\n",
    "# Extract mean 1950-1981 mean air temperature used as center of anomalies\n",
    "centerMean = float(re.sub('^.+?:','',file[41]).split('+/-')[0].strip())\n",
    "centerUnc = float(re.sub('^.+?:','',file[41]).split('+/-')[1].strip())\n",
    "\n",
    "# Convert list to DataFrame\n",
    "df = pd.DataFrame(lst, columns = h_list) \n",
    "\n",
    "# Add Center mean and uncertainty to df\n",
    "df['centerMean'] = centerMean\n",
    "df['centerUnc'] = centerUnc\n",
    "\n",
    "# Create Datetime \n",
    "df['Date'] = pd.to_datetime(df[['Year', 'Month']].assign(DAY=1))\n",
    "\n",
    "# Set data to numeric\n",
    "df[h_list[2:]] = df[h_list[2:]].apply(pd.to_numeric, errors='coerce')\n",
    "\n",
    "# Create a Month name column\n",
    "df['strMonth'] = df.Date.dt.month_name()\n",
    "\n",
    "# Create Country variable and fill with Global (Use for Ed Hawkins Stripes)\n",
    "df['Country'] = 'Global'\n",
    "\n",
    "# # Export csv file\n",
    "fullname = Wr.makeDirFile('Global_Temperature')\n",
    "export_csv = df.to_csv(fullname, index=False, header=True)"
   ]
  },
  {
   "cell_type": "code",
   "execution_count": null,
   "metadata": {},
   "outputs": [],
   "source": []
  }
 ],
 "metadata": {
  "kernelspec": {
   "display_name": "Python 3",
   "language": "python",
   "name": "python3"
  },
  "language_info": {
   "codemirror_mode": {
    "name": "ipython",
    "version": 3
   },
   "file_extension": ".py",
   "mimetype": "text/x-python",
   "name": "python",
   "nbconvert_exporter": "python",
   "pygments_lexer": "ipython3",
   "version": "3.7.4"
  }
 },
 "nbformat": 4,
 "nbformat_minor": 2
}
