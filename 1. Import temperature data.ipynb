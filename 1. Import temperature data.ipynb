{
 "cells": [
  {
   "cell_type": "markdown",
   "metadata": {},
   "source": [
    "# Import termperature data"
   ]
  },
  {
   "cell_type": "code",
   "execution_count": 6,
   "metadata": {},
   "outputs": [],
   "source": [
    "# \n",
    "# Import libraries and custom modules\n",
    "# \n",
    "import urllib.request, urllib.parse, urllib.error\n",
    "import pandas as pd\n",
    "import re\n",
    "import Wrangler as Wr\n",
    "## Wr.extractLines\n",
    "## Wr.multipleReplace\n",
    "## Wr.makeDirFile\n",
    "\n",
    "\n",
    "# Access URL, then request and read temperature data file \n",
    "with urllib.request.urlopen('http://berkeleyearth.lbl.gov/auto/Global/Land_and_Ocean_complete.txt') as fhand:\n",
    "    # Decode file data and form a list\n",
    "    file = [line.decode().strip() for line in fhand]\n",
    "\n",
    "# Extract set: Global Average Temperature Anomaly with Sea Ice Temperature Inferred from Air Temperatures\n",
    "lst = Wr.extractLines(file[77:2116])\n",
    "\n",
    "# Parse main headers and sub headers into respective lists\n",
    "h1 = Wr.multipleReplace({'%':'','-y':'Y'},file[74]).split()\n",
    "h2 = re.sub('[%\\s\\.]*','',file[75]).split(',')\n",
    "\n",
    "# Consolidate main and sub headers into single header list\n",
    "h_list = [h1[num//2-1] + h2[num] if num > 1 else h2[num] for num in range(len(h2))]\n",
    "\n",
    "# Convert list to DataFrame\n",
    "df = pd.DataFrame(lst, columns = h_list) \n",
    "\n",
    "# Create Datetime Index\n",
    "df['Date'] = pd.to_datetime(df[['Year', 'Month']].assign(DAY=1))\n",
    "df = df.set_index('Date').to_period('M')\n",
    "\n",
    "# Set data to numeric\n",
    "df[h_list[2:]] = df[h_list[2:]].apply(pd.to_numeric, errors='coerce')\n",
    "\n",
    "# Export csv file\n",
    "fullname = Wr.makeDirFile('Temperature')\n",
    "export_csv = df.to_csv(fullname, index='Date', header=True)"
   ]
  },
  {
   "cell_type": "code",
   "execution_count": null,
   "metadata": {},
   "outputs": [],
   "source": []
  },
  {
   "cell_type": "code",
   "execution_count": null,
   "metadata": {},
   "outputs": [],
   "source": []
  }
 ],
 "metadata": {
  "kernelspec": {
   "display_name": "Python 3",
   "language": "python",
   "name": "python3"
  },
  "language_info": {
   "codemirror_mode": {
    "name": "ipython",
    "version": 3
   },
   "file_extension": ".py",
   "mimetype": "text/x-python",
   "name": "python",
   "nbconvert_exporter": "python",
   "pygments_lexer": "ipython3",
   "version": "3.7.4"
  }
 },
 "nbformat": 4,
 "nbformat_minor": 2
}
