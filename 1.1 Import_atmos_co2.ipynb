{
 "cells": [
  {
   "cell_type": "markdown",
   "metadata": {},
   "source": [
    "# Import NOAA La Mauna Observatory atmospheric CO2 data"
   ]
  },
  {
   "cell_type": "code",
   "execution_count": 8,
   "metadata": {},
   "outputs": [],
   "source": [
    "import urllib.request, urllib.parse, urllib.error\n",
    "import pandas as pd\n",
    "import re\n",
    "import os\n",
    "import numpy as np\n",
    "\n",
    "# Custom functions\n",
    "import Wrangler as Wr\n",
    "## extractLines\n",
    "## multipleReplace\n",
    "## makeDirFile\n",
    "\n",
    "# Access URL, then request and read temperature data file \n",
    "with urllib.request.urlopen('ftp://aftp.cmdl.noaa.gov/products/trends/co2/co2_mm_mlo.txt') as fhand:\n",
    "    # Decode file data and form a list\n",
    "    file = [line.decode().strip() for line in fhand]\n",
    "\n",
    "# Identify Index at which CO2 data begins\n",
    "for c,el in enumerate(file):\n",
    "    if '#' not in el:\n",
    "        break\n",
    "\n",
    "# Extract CO2 data\n",
    "lst = Wr.extractLines(file[c:])\n",
    "\n",
    "# Created header list\n",
    "h_list = re.sub('#+','',file[c-2]).split()\n",
    "h_list[0:0] = ['Year','Month']\n",
    "\n",
    "# Convert list to DataFrame\n",
    "df = pd.DataFrame(lst, columns = h_list) \n",
    "\n",
    "# Create Date Index\n",
    "df['Date'] = pd.to_datetime(df[['Year', 'Month']].assign(DAY=1))\n",
    "df = df.drop(columns=['decimal'])\n",
    "\n",
    "# Convert missing data (-99.99) to Null\n",
    "df['average'] = df.average.replace('-99.99',np.nan)\n",
    "\n",
    "# Set data to numeric\n",
    "df[h_list[3:]] = df[h_list[3:]].apply(pd.to_numeric, errors='coerce')\n",
    "\n",
    "# Export csv file\n",
    "fullname = Wr.makeDirFile('co2_mm_mlo')\n",
    "export_csv = df.to_csv(fullname, index = None, header=True)"
   ]
  },
  {
   "cell_type": "code",
   "execution_count": null,
   "metadata": {},
   "outputs": [],
   "source": []
  },
  {
   "cell_type": "code",
   "execution_count": null,
   "metadata": {},
   "outputs": [],
   "source": []
  }
 ],
 "metadata": {
  "kernelspec": {
   "display_name": "Python 3",
   "language": "python",
   "name": "python3"
  },
  "language_info": {
   "codemirror_mode": {
    "name": "ipython",
    "version": 3
   },
   "file_extension": ".py",
   "mimetype": "text/x-python",
   "name": "python",
   "nbconvert_exporter": "python",
   "pygments_lexer": "ipython3",
   "version": "3.7.4"
  }
 },
 "nbformat": 4,
 "nbformat_minor": 2
}
