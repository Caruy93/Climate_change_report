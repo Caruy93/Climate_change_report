{
 "cells": [
  {
   "cell_type": "markdown",
   "metadata": {},
   "source": [
    "# Import Vostok Ice Core Temperature data"
   ]
  },
  {
   "cell_type": "code",
   "execution_count": 9,
   "metadata": {},
   "outputs": [],
   "source": [
    "import urllib.request, urllib.parse, urllib.error\n",
    "import pandas as pd\n",
    "import re\n",
    "import os\n",
    "import numpy as np\n",
    "\n",
    "# Custom functions\n",
    "import Wrangler as Wr\n",
    "## extractLines\n",
    "## multipleReplace\n",
    "## makeDirFile\n",
    "\n",
    "# Access URL, then request and read temperature data file \n",
    "with urllib.request.urlopen('https://cdiac.ess-dive.lbl.gov/ftp/trends/temp/vostok/vostok.1999.temp.dat') as fhand:\n",
    "    # Decode file data and form a list\n",
    "    file = [line.decode().strip() for line in fhand]\n",
    "# Identify Index at which Ice core data begins\n",
    "for c,el in enumerate(file):\n",
    "    if len(el) == 0:\n",
    "        break\n",
    "        \n",
    "# Extract data\n",
    "lst = Wr.extractLines(file[c+1:])\n",
    "\n",
    "# Manually type header data\n",
    "h_list = ['Depth_m','Age_of_ice_yrBP','Deuterium_deltaD','Temp_var_C']\n",
    "\n",
    "# Convert list to DataFrame\n",
    "df = pd.DataFrame(lst, columns = h_list) \n",
    "\n",
    "# Convert datatype\n",
    "df[h_list[0:2]] = df[h_list[0:2]].astype('int')\n",
    "df[h_list[2:4]] = df[h_list[2:4]].astype('float')\n",
    "\n",
    "# Export csv file\n",
    "fullname = Wr.makeDirFile('vostok_temp')\n",
    "export_csv = df.to_csv(fullname, index = None, header=True)"
   ]
  },
  {
   "cell_type": "code",
   "execution_count": null,
   "metadata": {},
   "outputs": [],
   "source": []
  }
 ],
 "metadata": {
  "kernelspec": {
   "display_name": "Python 3",
   "language": "python",
   "name": "python3"
  },
  "language_info": {
   "codemirror_mode": {
    "name": "ipython",
    "version": 3
   },
   "file_extension": ".py",
   "mimetype": "text/x-python",
   "name": "python",
   "nbconvert_exporter": "python",
   "pygments_lexer": "ipython3",
   "version": "3.7.4"
  }
 },
 "nbformat": 4,
 "nbformat_minor": 2
}
