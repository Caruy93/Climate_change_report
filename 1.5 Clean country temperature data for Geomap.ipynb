{
 "cells": [
  {
   "cell_type": "code",
   "execution_count": 1,
   "metadata": {},
   "outputs": [],
   "source": [
    "import urllib.request, urllib.parse, urllib.error\n",
    "from bs4 import BeautifulSoup\n",
    "import pandas as pd\n",
    "import re\n",
    "import Wrangler as Wr\n",
    "\n",
    "# Set of countries to be renamed for country code matching\n",
    "countryRename = {'Åland':'Åland Islands','Burma':'Myanmar','Cape Verde':'Cabo Verde','Iran':'Iran (Islamic Republic of)',\n",
    "                 'Czech Republic':'Czechia',\n",
    "                'Bolivia':'Bolivia (Plurinational State of)','British Virgin Islands':'Virgin Islands (British)',\n",
    "                 'Bonaire, Saint Eustatius and Saba':'Bonaire, Sint Eustatius and Saba',\n",
    "                'Congo (Democratic Republic of the)':'Congo, Democratic Republic of the',\n",
    "                'Falkland Islands (Islas Malvinas)':'Falkland Islands (Malvinas)',\n",
    "                'Federated States of Micronesia':'Micronesia (Federated States of)',\n",
    "                'French Southern and Antarctic Lands':'French Southern Territories','Laos':\"Lao People's Democratic Republic\",\n",
    "                'Macau':'Macao','Macedonia':'North Macedonia','Moldova':'Moldova, Republic of',\n",
    "                 'North Korea':\"Korea (Democratic People's Republic of)\",'Palestina':'Palestine, State of',\n",
    "                'Reunion':'Réunion','Russia':'Russian Federation','Saint Martin':'Saint Martin (French part)',\n",
    "                'Sint Maarten':'Sint Maarten (Dutch part)','South Georgia and the South Sandwich Isla':'South Georgia and the South Sandwich Islands',\n",
    "                'South Korea':'Korea, Republic of','Swaziland':'Eswatini','Syria':'Syrian Arab Republic',\n",
    "                'Tanzania':'Tanzania, United Republic of','Turks and Caicas Islands':'Turks and Caicos Islands',\n",
    "                'United Kingdom':'United Kingdom of Great Britain and Northern Ireland',\n",
    "                'United States':'United States of America','Venezuela':'Venezuela (Bolivarian Republic of)',\n",
    "                'Vietnam':'Viet Nam','Virgin Islands':'Virgin Islands (U.S.)'}\n",
    "\n",
    "# The geomap shape data uses slightly different codes for some countries\n",
    "reCode = {'ESH':'SAH','PSE':'PSX'}"
   ]
  },
  {
   "cell_type": "markdown",
   "metadata": {},
   "source": [
    "Import dictionary of country codes"
   ]
  },
  {
   "cell_type": "code",
   "execution_count": 2,
   "metadata": {},
   "outputs": [],
   "source": [
    "# specify the url\n",
    "list_page = 'https://en.wikipedia.org/wiki/ISO_3166-1_alpha-3#Uses_and_applications'\n",
    "\n",
    "# query the website and return the html to the variable ‘page’\n",
    "page = urllib.request.urlopen(list_page)\n",
    "\n",
    "# parse the html using beautiful soup and store in variable `soup`\n",
    "soup = BeautifulSoup(page, 'html.parser')\n",
    "\n",
    "# Create a list of each country link\n",
    "table = soup.find('div', attrs={'class': 'plainlist'})\n",
    "rows = table.findAll('li')\n",
    "countryCodes = {}\n",
    "for li in rows:\n",
    "    code = li.find('span', attrs={'class':'monospaced'}).text\n",
    "    country = li.find('a').text\n",
    "    countryCodes.update({country:code})"
   ]
  },
  {
   "cell_type": "markdown",
   "metadata": {},
   "source": [
    "Load and clean country data"
   ]
  },
  {
   "cell_type": "code",
   "execution_count": 3,
   "metadata": {},
   "outputs": [],
   "source": [
    "# Load Country Temperature data\n",
    "filePath = Wr.makeDirFile('Temp_countries')\n",
    "cTempdata = pd.read_csv(filePath)\n",
    "\n",
    "# Remove some of the dupicated countries that end with '(Europe)'\n",
    "cTempdata = cTempdata[~cTempdata.Country.str.contains('Europe')]\n",
    "\n",
    "# Retain data at annual frequency\n",
    "cTempdata = cTempdata[cTempdata.Month.isin([6])]\n",
    "\n",
    "# Remove unneeded columns\n",
    "cTempdata = cTempdata.drop(columns = {'MonthlyAnomaly','Month','Date',\n",
    "                                      'landPercent','TwentyYearAnomaly','TenYearAnomaly'})\n",
    "cols = [c for c in cTempdata.columns if c.lower()[-3:] != 'unc']\n",
    "cTempdata=cTempdata[cols]\n",
    "\n",
    "# Create country code column\n",
    "cTempdata['country_code'] = cTempdata.Country.replace(countryRename).replace(countryCodes).replace(reCode)\n",
    "\n",
    "# Drop uninhabited islands (non-country)\n",
    "dropNames = cTempdata[cTempdata.Country.isin(['Baker Island','Gaza Strip','Kingman Reef','Palmyra Atoll'])].index\n",
    "cTempdata.drop(dropNames , inplace=True)\n",
    "\n",
    "# Reset index\n",
    "cTempdata = cTempdata.reset_index().drop(columns='index')"
   ]
  },
  {
   "cell_type": "markdown",
   "metadata": {},
   "source": [
    "Export data as csv"
   ]
  },
  {
   "cell_type": "code",
   "execution_count": 4,
   "metadata": {},
   "outputs": [],
   "source": [
    "# Load Country Temperature data\n",
    "filePath = Wr.makeDirFile('cleanedCountries')\n",
    "cTempdata.to_csv(filePath)"
   ]
  },
  {
   "cell_type": "code",
   "execution_count": null,
   "metadata": {},
   "outputs": [],
   "source": []
  },
  {
   "cell_type": "code",
   "execution_count": null,
   "metadata": {},
   "outputs": [],
   "source": []
  },
  {
   "cell_type": "code",
   "execution_count": null,
   "metadata": {},
   "outputs": [],
   "source": []
  }
 ],
 "metadata": {
  "kernelspec": {
   "display_name": "Python 3",
   "language": "python",
   "name": "python3"
  },
  "language_info": {
   "codemirror_mode": {
    "name": "ipython",
    "version": 3
   },
   "file_extension": ".py",
   "mimetype": "text/x-python",
   "name": "python",
   "nbconvert_exporter": "python",
   "pygments_lexer": "ipython3",
   "version": "3.7.4"
  }
 },
 "nbformat": 4,
 "nbformat_minor": 2
}
