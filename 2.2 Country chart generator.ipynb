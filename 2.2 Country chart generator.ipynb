{
 "cells": [
  {
   "cell_type": "markdown",
   "metadata": {},
   "source": [
    "In this code, we create an automatic chart generator for each country.  The charts we generate are the average temperature anomaly plots, the heatmaps, and the Ed Hawkins climate stripes."
   ]
  },
  {
   "cell_type": "code",
   "execution_count": 9,
   "metadata": {},
   "outputs": [],
   "source": [
    "%matplotlib inline\n",
    "\n",
    "from IPython.display import clear_output\n",
    "import numpy as np\n",
    "import pandas as pd\n",
    "import matplotlib.pyplot as plt\n",
    "import seaborn as sns\n",
    "import datetime\n",
    "import Wrangler as Wr\n",
    "import Countrypack as Cp\n",
    "\n",
    "# Function to expand confidence intervals for temperature data\n",
    "def makeConfidenceInt(data,period):\n",
    "    upper = period + 'Up'\n",
    "    lower = period + 'Lo'\n",
    "    anomaly= period + 'Anomaly'\n",
    "    uncertainty = period + 'Unc'\n",
    "    data[upper] = data[anomaly] + data[uncertainty]\n",
    "    data[lower] = data[anomaly] - data[uncertainty]\n",
    "    "
   ]
  },
  {
   "cell_type": "code",
   "execution_count": 10,
   "metadata": {},
   "outputs": [],
   "source": [
    "# Load Country Temperature data\n",
    "filePath = Wr.makeDirFile('Temp_countries')\n",
    "cTempdata = pd.read_csv(filePath)\n",
    "\n",
    "# Convert date to datetime\n",
    "cTempdata.Date = pd.to_datetime(cTempdata.Date, format='%Y-%m-%d', errors='coerce')\n",
    "\n",
    "# Create a Month name column\n",
    "cTempdata['strMonth'] = cTempdata.Date.dt.month_name()\n",
    "\n",
    "# Create non-index Date\n",
    "cTempdata['nonIndexDate'] = cTempdata.Date\n",
    "\n",
    "# set date index\n",
    "cTempdata = cTempdata.set_index('Date')\n",
    "\n",
    "# Convert string month to categorical datatype\n",
    "months_order = ['January', 'February', 'March', 'April','May','June',\n",
    "                'July','August','September','October','November','December']\n",
    "cTempdata.strMonth = pd.Categorical(cTempdata.strMonth, \n",
    "                     categories=months_order, ordered=True)\n",
    "\n",
    "# Generate Confidence intervals\n",
    "for period in ['Monthly','Annual','TenYear','TwentyYear']:\n",
    "    makeConfidenceInt(cTempdata,period)\n",
    "    \n",
    "# Remove some of the dupicated countries that end with '(Europe)'\n",
    "cTempdata = cTempdata[~cTempdata.Country.str.contains('Europe')]\n",
    "\n",
    "# Replace Congo (Democratice Republic of the) with DRC\n",
    "cTempdata['Country'] = cTempdata['Country'].replace('Congo (Democratic Republic of the)','DRC')"
   ]
  },
  {
   "cell_type": "code",
   "execution_count": 13,
   "metadata": {},
   "outputs": [
    {
     "data": {
      "text/plain": [
       "array(['Afghanistan', 'Åland', 'Albania', 'Algeria', 'American Samoa',\n",
       "       'Andorra', 'Angola', 'Anguilla', 'Antarctica',\n",
       "       'Antigua and Barbuda', 'Argentina', 'Armenia', 'Aruba',\n",
       "       'Australia', 'Austria', 'Azerbaijan', 'Bahamas', 'Bahrain',\n",
       "       'Baker Island', 'Bangladesh', 'Barbados', 'Belarus', 'Belgium',\n",
       "       'Belize', 'Benin', 'Bhutan', 'Bolivia',\n",
       "       'Bonaire, Saint Eustatius and Saba', 'Bosnia and Herzegovina',\n",
       "       'Botswana', 'Brazil', 'British Virgin Islands', 'Bulgaria',\n",
       "       'Burkina Faso', 'Burma', 'Burundi', 'Cambodia', 'Cameroon',\n",
       "       'Canada', 'Cape Verde', 'Cayman Islands',\n",
       "       'Central African Republic', 'Chad', 'Chile', 'China',\n",
       "       'Christmas Island', 'Colombia', 'Comoros', 'Congo', 'DRC',\n",
       "       'Costa Rica', \"Côte d'Ivoire\", 'Croatia', 'Cuba', 'Curaçao',\n",
       "       'Cyprus', 'Czech Republic', 'Denmark', 'Djibouti', 'Dominica',\n",
       "       'Dominican Republic', 'Ecuador', 'Egypt', 'El Salvador',\n",
       "       'Equatorial Guinea', 'Eritrea', 'Estonia', 'Ethiopia',\n",
       "       'Falkland Islands (Islas Malvinas)', 'Faroe Islands',\n",
       "       'Federated States of Micronesia', 'Fiji', 'Finland', 'France',\n",
       "       'French Guiana', 'French Polynesia',\n",
       "       'French Southern and Antarctic Lands', 'Gabon', 'Gambia',\n",
       "       'Gaza Strip', 'Georgia', 'Germany', 'Ghana', 'Greece', 'Greenland',\n",
       "       'Grenada', 'Guadeloupe', 'Guam', 'Guatemala', 'Guernsey', 'Guinea',\n",
       "       'Guinea-Bissau', 'Guyana', 'Haiti',\n",
       "       'Heard Island and McDonald Islands', 'Honduras', 'Hong Kong',\n",
       "       'Hungary', 'Iceland', 'India', 'Indonesia', 'Iran', 'Iraq',\n",
       "       'Ireland', 'Isle of Man', 'Israel', 'Italy', 'Jamaica', 'Japan',\n",
       "       'Jersey', 'Jordan', 'Kazakhstan', 'Kenya', 'Kingman Reef',\n",
       "       'Kiribati', 'Kuwait', 'Kyrgyzstan', 'Laos', 'Latvia', 'Lebanon',\n",
       "       'Lesotho', 'Liberia', 'Libya', 'Liechtenstein', 'Lithuania',\n",
       "       'Luxembourg', 'Macau', 'Macedonia', 'Madagascar', 'Malawi',\n",
       "       'Malaysia', 'Mali', 'Malta', 'Martinique', 'Mauritania',\n",
       "       'Mauritius', 'Mayotte', 'Mexico', 'Moldova', 'Monaco', 'Mongolia',\n",
       "       'Montenegro', 'Montserrat', 'Morocco', 'Mozambique', 'Namibia',\n",
       "       'Nepal', 'Netherlands', 'New Caledonia', 'New Zealand',\n",
       "       'Nicaragua', 'Niger', 'Nigeria', 'Niue', 'North Korea',\n",
       "       'Northern Mariana Islands', 'Norway', 'Oman', 'Pakistan', 'Palau',\n",
       "       'Palestina', 'Palmyra Atoll', 'Panama', 'Papua New Guinea',\n",
       "       'Paraguay', 'Peru', 'Philippines', 'Poland', 'Portugal',\n",
       "       'Puerto Rico', 'Qatar', 'Reunion', 'Romania', 'Russia', 'Rwanda',\n",
       "       'Saint Barthélemy', 'Saint Kitts and Nevis', 'Saint Lucia',\n",
       "       'Saint Martin', 'Saint Pierre and Miquelon',\n",
       "       'Saint Vincent and the Grenadines', 'Samoa', 'San Marino',\n",
       "       'Sao Tome and Principe', 'Saudi Arabia', 'Senegal', 'Serbia',\n",
       "       'Seychelles', 'Sierra Leone', 'Singapore', 'Sint Maarten',\n",
       "       'Slovakia', 'Slovenia', 'Solomon Islands', 'Somalia',\n",
       "       'South Africa', 'South Georgia and the South Sandwich Isla',\n",
       "       'South Korea', 'Spain', 'Sri Lanka', 'Sudan', 'Suriname',\n",
       "       'Svalbard and Jan Mayen', 'Swaziland', 'Sweden', 'Switzerland',\n",
       "       'Syria', 'Taiwan', 'Tajikistan', 'Tanzania', 'Thailand',\n",
       "       'Timor-Leste', 'Togo', 'Tonga', 'Trinidad and Tobago', 'Tunisia',\n",
       "       'Turkey', 'Turkmenistan', 'Turks and Caicas Islands', 'Uganda',\n",
       "       'Ukraine', 'United Arab Emirates', 'United Kingdom',\n",
       "       'United States', 'Uruguay', 'Uzbekistan', 'Venezuela', 'Vietnam',\n",
       "       'Virgin Islands', 'Western Sahara', 'Yemen', 'Zambia', 'Zimbabwe'],\n",
       "      dtype=object)"
      ]
     },
     "execution_count": 13,
     "metadata": {},
     "output_type": "execute_result"
    }
   ],
   "source": [
    "# List the country names that we can visualise\n",
    "cTempdata.Country.unique()"
   ]
  },
  {
   "cell_type": "code",
   "execution_count": 15,
   "metadata": {
    "scrolled": false
   },
   "outputs": [],
   "source": [
    "# Run indefinite loop\n",
    "while True:\n",
    "    \n",
    "    # Prompt for country entry\n",
    "    print(\"Type 'done' when you are finished.\")\n",
    "    response = input('Country name: ')\n",
    "    sCountry = str(response)\n",
    "    \n",
    "    # Quit if user enters done\n",
    "    if response.lower() == 'done':\n",
    "        # Clear all outputs\n",
    "        clear_output()\n",
    "        break\n",
    "\n",
    "    else:\n",
    "        # Clear outputs and reset\n",
    "        clear_output()\n",
    "        \n",
    "        # Show temperature lines\n",
    "        Cp.tempLines(cTempdata,sCountry)\n",
    "        try:\n",
    "            # Show heatmap\n",
    "            Cp.heatmapper(cTempdata,sCountry,'MonthlyAnomaly')\n",
    "        except:\n",
    "            print('No data at monthly resolution, trying annual...')\n",
    "            try:\n",
    "                Cp.heatmapper(cTempdata,sCountry,'AnnualAnomaly')\n",
    "            except:\n",
    "                print('No data either.')\n",
    "\n",
    "        # Show climate stripes\n",
    "        sns.reset_defaults()\n",
    "        Cp.countryStripes(cTempdata,sCountry,xtrigger=True)"
   ]
  },
  {
   "cell_type": "code",
   "execution_count": null,
   "metadata": {},
   "outputs": [],
   "source": []
  }
 ],
 "metadata": {
  "kernelspec": {
   "display_name": "Python 3",
   "language": "python",
   "name": "python3"
  },
  "language_info": {
   "codemirror_mode": {
    "name": "ipython",
    "version": 3
   },
   "file_extension": ".py",
   "mimetype": "text/x-python",
   "name": "python",
   "nbconvert_exporter": "python",
   "pygments_lexer": "ipython3",
   "version": "3.7.4"
  }
 },
 "nbformat": 4,
 "nbformat_minor": 2
}
